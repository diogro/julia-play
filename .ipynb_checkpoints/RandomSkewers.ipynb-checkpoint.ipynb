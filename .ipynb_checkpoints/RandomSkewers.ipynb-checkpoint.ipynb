{
 "metadata": {
  "name": ""
 },
 "nbformat": 3,
 "nbformat_minor": 0,
 "worksheets": [
  {
   "cells": [
    {
     "cell_type": "code",
     "collapsed": false,
     "input": [
      "function CorrVarCreate(data_var::Array{Float64,2}, data_cor::Array{Float64,2})\n",
      "    NP, tr = size(data_var)\n",
      "    mat_corr = zeros((tr, tr, NP))\n",
      "    mat_var = zeros((tr, tr, NP))\n",
      "    for k in 1:NP\n",
      "        l = 1\n",
      "        for i in 1:tr\n",
      "            mat_corr[i, i, k] =  1.0\n",
      "            for j in 1:i-1\n",
      "                mat_corr[i, j, k] = data_cor[k, l]\n",
      "                mat_corr[j, i, k] = mat_corr[i, j, k]\n",
      "                l = l+1\n",
      "            end\n",
      "        end\n",
      "    end\n",
      "    for k in 1:NP\n",
      "        mat_var[:,:,k] =\n",
      "        mat_corr[:,:,k].*sqrt((data_var[k,:]'*data_var[k,:]))\n",
      "    end\n",
      "    mat_var, mat_corr\n",
      "end"
     ],
     "language": "python",
     "metadata": {},
     "outputs": [
      {
       "metadata": {},
       "output_type": "pyout",
       "prompt_number": 1,
       "text": [
        "CorrVarCreate (generic function with 1 method)"
       ]
      }
     ],
     "prompt_number": 1
    },
    {
     "cell_type": "code",
     "collapsed": false,
     "input": [
      "function Random_Skewers(A::Array{Float64, 2}, B::Array{Float64, 2})\n",
      "    n, p = size(A)\n",
      "    n_vector = 1000 \n",
      "    betas = rand(n, n_vector)\n",
      "    deltaZ_A = A*betas\n",
      "    deltaZ_B = B*betas\n",
      "    RS = zeros(n_vector)\n",
      "    for i=1:n_vector\n",
      "        RS[i] = (deltaZ_A[:,i]'*deltaZ_B[:,i]/\n",
      "                sqrt((deltaZ_A[:,i]'*deltaZ_A[:,i])'*(deltaZ_B[:,i]'*deltaZ_B[:,i])))[1]\n",
      "    end\n",
      "    mean(RS)\n",
      "end"
     ],
     "language": "python",
     "metadata": {},
     "outputs": [
      {
       "metadata": {},
       "output_type": "pyout",
       "prompt_number": 2,
       "text": [
        "Random_Skewers (generic function with 1 method)"
       ]
      }
     ],
     "prompt_number": 2
    },
    {
     "cell_type": "code",
     "collapsed": false,
     "input": [
      "function RS_Series (Mats::Array{Float64, 3}, Target::Array{Float64, 2})\n",
      "    n, p, NP = size(Mats)\n",
      "    Sim = zeros(NP)\n",
      "    for i=1:NP\n",
      "        Sim[i] = Random_Skewers(Mats[:,:,i],Target)\n",
      "    end\n",
      "    Sim\n",
      "end"
     ],
     "language": "python",
     "metadata": {},
     "outputs": [
      {
       "metadata": {},
       "output_type": "pyout",
       "prompt_number": 3,
       "text": [
        "RS_Series (generic function with 1 method)"
       ]
      }
     ],
     "prompt_number": 3
    },
    {
     "cell_type": "code",
     "collapsed": false,
     "input": [
      "function RS_Sel_Type (File::String) \n",
      "    omega = dlmread(\"/home/diogro/julia-play/G-target.csv\",\"\\t\")\n",
      "    mat_cor = zeros(10, 10, 10000, 20)\n",
      "    mat_var = zeros(10, 10, 10000, 20)\n",
      "    traits = zeros(10, 10000, 20)\n",
      "    Results = zeros(10000, 20)\n",
      "    for i in 1:20\n",
      "        dir =\n",
      "        \"/home/diogro/projects/MainProject/Modularidade/MatrizB/Direcional/$(File)/IntSel$(i*10)/\" \n",
      "        println(dir)\n",
      "        cor_aux = (dlmread(\"$(dir)correlacao.txt\",\" \"))[:,2:end] \n",
      "        var_aux = (dlmread(\"$(dir)varP.txt\", \" \"))[:,2:end]\n",
      "        traits = (dlmread(\"$(dir)tracos.txt\", \" \"))[:,2:end]\n",
      "        mat_var[:,:,:,i], mat_cor[:,:,:,i] = CorrVarCreate(var_aux, cor_aux)\n",
      "        Results[:,i] = RS_Series(mat_var[:,:,:,i], omega)\n",
      "    end\n",
      "    dlmwrite(\"RS_Results_$(File)\", Results, ' ')\n",
      "end"
     ],
     "language": "python",
     "metadata": {},
     "outputs": [
      {
       "metadata": {},
       "output_type": "pyout",
       "prompt_number": 5,
       "text": [
        "RS_Sel_Type (generic function with 1 method)"
       ]
      }
     ],
     "prompt_number": 5
    },
    {
     "cell_type": "code",
     "collapsed": false,
     "input": [
      "#RS_Sel_Type(\"MinForModule\")\n",
      "#RS_Sel_Type(\"Corridor\")\n",
      "File = \"MinForModule\"\n",
      "File = \"IntensidadeSelecao\"\n",
      "omega = dlmread(\"/home/diogro/julia-play/G-target.csv\",\"\\t\")\n",
      "mat_cor = zeros(10, 10, 10000, 20)\n",
      "mat_var = zeros(10, 10, 10000, 20)\n",
      "traits = zeros(10, 10000, 20)\n",
      "betas = zeros(10000, 20)\n",
      "Results = zeros(10000, 20)\n",
      "for i in 1:20\n",
      "    dir =\n",
      "    \"/home/diogro/projects/MainProject/Modularidade/MatrizB/Direcional/$(File)/IntSel$(i*10)/\" \n",
      "    println(dir)\n",
      "    cor_aux = (dlmread(\"$(dir)correlacao.txt\",\" \"))[:,2:end] \n",
      "    var_aux = (dlmread(\"$(dir)varP.txt\", \" \"))[:,2:end]\n",
      "    traits[:,:,i] = ((dlmread(\"$(dir)tracos.txt\", \" \"))[:,2:end]')\n",
      "    mat_var[:,:,:,i], mat_cor[:,:,:,i] = CorrVarCreate(var_aux, cor_aux)\n",
      "    S = fill(i/100.,10)\n",
      "    for j in 1:10000\n",
      "        betas[j,i] =  mean(mat_var[:,:,j,i]\\S)\n",
      "    end\n",
      "end"
     ],
     "language": "python",
     "metadata": {},
     "outputs": []
    }
   ],
   "metadata": {}
  }
 ]
}